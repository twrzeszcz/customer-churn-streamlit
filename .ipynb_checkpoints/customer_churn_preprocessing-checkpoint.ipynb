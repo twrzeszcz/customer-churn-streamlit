{
 "cells": [
  {
   "cell_type": "code",
   "execution_count": 1,
   "metadata": {},
   "outputs": [],
   "source": [
    "import numpy as np\n",
    "import pandas as pd\n",
    "import seaborn as sns\n",
    "import matplotlib.pyplot as plt\n",
    "%matplotlib inline\n",
    "\n",
    "import datetime as dt"
   ]
  },
  {
   "cell_type": "markdown",
   "metadata": {},
   "source": [
    "## Read and preprocess data"
   ]
  },
  {
   "cell_type": "markdown",
   "metadata": {},
   "source": [
    "Dataset contains information about various features related to the telcom company.We would like to predict which customers will churn based on this data."
   ]
  },
  {
   "cell_type": "code",
   "execution_count": 2,
   "metadata": {},
   "outputs": [
    {
     "name": "stdout",
     "output_type": "stream",
     "text": [
      "<class 'pandas.core.frame.DataFrame'>\n",
      "RangeIndex: 99999 entries, 0 to 99998\n",
      "Columns: 226 entries, mobile_number to sep_vbc_3g\n",
      "dtypes: float64(179), int64(35), object(12)\n",
      "memory usage: 172.4+ MB\n"
     ]
    }
   ],
   "source": [
    "data = pd.read_csv('data_raw.csv')\n",
    "data.info()"
   ]
  },
  {
   "cell_type": "code",
   "execution_count": 3,
   "metadata": {},
   "outputs": [
    {
     "data": {
      "text/html": [
       "<div>\n",
       "<style scoped>\n",
       "    .dataframe tbody tr th:only-of-type {\n",
       "        vertical-align: middle;\n",
       "    }\n",
       "\n",
       "    .dataframe tbody tr th {\n",
       "        vertical-align: top;\n",
       "    }\n",
       "\n",
       "    .dataframe thead th {\n",
       "        text-align: right;\n",
       "    }\n",
       "</style>\n",
       "<table border=\"1\" class=\"dataframe\">\n",
       "  <thead>\n",
       "    <tr style=\"text-align: right;\">\n",
       "      <th></th>\n",
       "      <th>mobile_number</th>\n",
       "      <th>circle_id</th>\n",
       "      <th>loc_og_t2o_mou</th>\n",
       "      <th>std_og_t2o_mou</th>\n",
       "      <th>loc_ic_t2o_mou</th>\n",
       "      <th>last_date_of_month_6</th>\n",
       "      <th>last_date_of_month_7</th>\n",
       "      <th>last_date_of_month_8</th>\n",
       "      <th>last_date_of_month_9</th>\n",
       "      <th>arpu_6</th>\n",
       "      <th>...</th>\n",
       "      <th>sachet_3g_9</th>\n",
       "      <th>fb_user_6</th>\n",
       "      <th>fb_user_7</th>\n",
       "      <th>fb_user_8</th>\n",
       "      <th>fb_user_9</th>\n",
       "      <th>aon</th>\n",
       "      <th>aug_vbc_3g</th>\n",
       "      <th>jul_vbc_3g</th>\n",
       "      <th>jun_vbc_3g</th>\n",
       "      <th>sep_vbc_3g</th>\n",
       "    </tr>\n",
       "  </thead>\n",
       "  <tbody>\n",
       "    <tr>\n",
       "      <th>0</th>\n",
       "      <td>7000842753</td>\n",
       "      <td>109</td>\n",
       "      <td>0.0</td>\n",
       "      <td>0.0</td>\n",
       "      <td>0.0</td>\n",
       "      <td>6/30/2014</td>\n",
       "      <td>7/31/2014</td>\n",
       "      <td>8/31/2014</td>\n",
       "      <td>9/30/2014</td>\n",
       "      <td>197.385</td>\n",
       "      <td>...</td>\n",
       "      <td>0</td>\n",
       "      <td>1.0</td>\n",
       "      <td>1.0</td>\n",
       "      <td>1.0</td>\n",
       "      <td>NaN</td>\n",
       "      <td>968</td>\n",
       "      <td>30.4</td>\n",
       "      <td>0.0</td>\n",
       "      <td>101.20</td>\n",
       "      <td>3.58</td>\n",
       "    </tr>\n",
       "    <tr>\n",
       "      <th>1</th>\n",
       "      <td>7001865778</td>\n",
       "      <td>109</td>\n",
       "      <td>0.0</td>\n",
       "      <td>0.0</td>\n",
       "      <td>0.0</td>\n",
       "      <td>6/30/2014</td>\n",
       "      <td>7/31/2014</td>\n",
       "      <td>8/31/2014</td>\n",
       "      <td>9/30/2014</td>\n",
       "      <td>34.047</td>\n",
       "      <td>...</td>\n",
       "      <td>0</td>\n",
       "      <td>NaN</td>\n",
       "      <td>1.0</td>\n",
       "      <td>1.0</td>\n",
       "      <td>NaN</td>\n",
       "      <td>1006</td>\n",
       "      <td>0.0</td>\n",
       "      <td>0.0</td>\n",
       "      <td>0.00</td>\n",
       "      <td>0.00</td>\n",
       "    </tr>\n",
       "    <tr>\n",
       "      <th>2</th>\n",
       "      <td>7001625959</td>\n",
       "      <td>109</td>\n",
       "      <td>0.0</td>\n",
       "      <td>0.0</td>\n",
       "      <td>0.0</td>\n",
       "      <td>6/30/2014</td>\n",
       "      <td>7/31/2014</td>\n",
       "      <td>8/31/2014</td>\n",
       "      <td>9/30/2014</td>\n",
       "      <td>167.690</td>\n",
       "      <td>...</td>\n",
       "      <td>0</td>\n",
       "      <td>NaN</td>\n",
       "      <td>NaN</td>\n",
       "      <td>NaN</td>\n",
       "      <td>1.0</td>\n",
       "      <td>1103</td>\n",
       "      <td>0.0</td>\n",
       "      <td>0.0</td>\n",
       "      <td>4.17</td>\n",
       "      <td>0.00</td>\n",
       "    </tr>\n",
       "    <tr>\n",
       "      <th>3</th>\n",
       "      <td>7001204172</td>\n",
       "      <td>109</td>\n",
       "      <td>0.0</td>\n",
       "      <td>0.0</td>\n",
       "      <td>0.0</td>\n",
       "      <td>6/30/2014</td>\n",
       "      <td>7/31/2014</td>\n",
       "      <td>8/31/2014</td>\n",
       "      <td>9/30/2014</td>\n",
       "      <td>221.338</td>\n",
       "      <td>...</td>\n",
       "      <td>0</td>\n",
       "      <td>NaN</td>\n",
       "      <td>NaN</td>\n",
       "      <td>NaN</td>\n",
       "      <td>NaN</td>\n",
       "      <td>2491</td>\n",
       "      <td>0.0</td>\n",
       "      <td>0.0</td>\n",
       "      <td>0.00</td>\n",
       "      <td>0.00</td>\n",
       "    </tr>\n",
       "    <tr>\n",
       "      <th>4</th>\n",
       "      <td>7000142493</td>\n",
       "      <td>109</td>\n",
       "      <td>0.0</td>\n",
       "      <td>0.0</td>\n",
       "      <td>0.0</td>\n",
       "      <td>6/30/2014</td>\n",
       "      <td>7/31/2014</td>\n",
       "      <td>8/31/2014</td>\n",
       "      <td>9/30/2014</td>\n",
       "      <td>261.636</td>\n",
       "      <td>...</td>\n",
       "      <td>0</td>\n",
       "      <td>0.0</td>\n",
       "      <td>NaN</td>\n",
       "      <td>NaN</td>\n",
       "      <td>NaN</td>\n",
       "      <td>1526</td>\n",
       "      <td>0.0</td>\n",
       "      <td>0.0</td>\n",
       "      <td>0.00</td>\n",
       "      <td>0.00</td>\n",
       "    </tr>\n",
       "  </tbody>\n",
       "</table>\n",
       "<p>5 rows × 226 columns</p>\n",
       "</div>"
      ],
      "text/plain": [
       "   mobile_number  circle_id  loc_og_t2o_mou  std_og_t2o_mou  loc_ic_t2o_mou  \\\n",
       "0     7000842753        109             0.0             0.0             0.0   \n",
       "1     7001865778        109             0.0             0.0             0.0   \n",
       "2     7001625959        109             0.0             0.0             0.0   \n",
       "3     7001204172        109             0.0             0.0             0.0   \n",
       "4     7000142493        109             0.0             0.0             0.0   \n",
       "\n",
       "  last_date_of_month_6 last_date_of_month_7 last_date_of_month_8  \\\n",
       "0            6/30/2014            7/31/2014            8/31/2014   \n",
       "1            6/30/2014            7/31/2014            8/31/2014   \n",
       "2            6/30/2014            7/31/2014            8/31/2014   \n",
       "3            6/30/2014            7/31/2014            8/31/2014   \n",
       "4            6/30/2014            7/31/2014            8/31/2014   \n",
       "\n",
       "  last_date_of_month_9   arpu_6  ...  sachet_3g_9  fb_user_6  fb_user_7  \\\n",
       "0            9/30/2014  197.385  ...            0        1.0        1.0   \n",
       "1            9/30/2014   34.047  ...            0        NaN        1.0   \n",
       "2            9/30/2014  167.690  ...            0        NaN        NaN   \n",
       "3            9/30/2014  221.338  ...            0        NaN        NaN   \n",
       "4            9/30/2014  261.636  ...            0        0.0        NaN   \n",
       "\n",
       "   fb_user_8  fb_user_9   aon  aug_vbc_3g  jul_vbc_3g  jun_vbc_3g  sep_vbc_3g  \n",
       "0        1.0        NaN   968        30.4         0.0      101.20        3.58  \n",
       "1        1.0        NaN  1006         0.0         0.0        0.00        0.00  \n",
       "2        NaN        1.0  1103         0.0         0.0        4.17        0.00  \n",
       "3        NaN        NaN  2491         0.0         0.0        0.00        0.00  \n",
       "4        NaN        NaN  1526         0.0         0.0        0.00        0.00  \n",
       "\n",
       "[5 rows x 226 columns]"
      ]
     },
     "execution_count": 3,
     "metadata": {},
     "output_type": "execute_result"
    }
   ],
   "source": [
    "data.head()"
   ]
  },
  {
   "cell_type": "markdown",
   "metadata": {},
   "source": [
    "Data consists of various parameters collected for period of four months from June to September. There is no specific indication which customer is going to churn. Therefore we specify the last month as the one in which customer will churn and in which we should see some large deviations in previously stable parameters. June and July will be considered the good months when we should not observe large deviations from the overall trend. August will be the \"action\" month when some parameters start to rapidly change.\n",
    "\n",
    "Since the number of customers is large and we are only interested in retaining the most valuable ones (most of the revenue comes from them), we can filter them according to some parameters. The good choice could be a recharge rate. There are 2 types of recharge as you could see below. We only take into consideration the \"good\" months and calculated the average over these 2 months. Then we choose the customers with the average recharge rate larger then the 70th percentile. "
   ]
  },
  {
   "cell_type": "code",
   "execution_count": 4,
   "metadata": {},
   "outputs": [],
   "source": [
    "data['total_data_rech_6'] = data['total_rech_data_6'] * data['av_rech_amt_data_6']\n",
    "data['total_data_rech_7'] = data['total_rech_data_7'] * data['av_rech_amt_data_7']\n",
    "\n",
    "data['amt_data_6'] = data[['total_rech_amt_6', 'total_data_rech_6']].sum(axis=1)\n",
    "data['amt_data_7'] = data[['total_rech_amt_7', 'total_data_rech_7']].sum(axis=1)\n",
    "\n",
    "data['AVG_amt_data_6_7'] = data[['amt_data_6', 'amt_data_7']].mean(axis=1)"
   ]
  },
  {
   "cell_type": "code",
   "execution_count": 5,
   "metadata": {},
   "outputs": [
    {
     "data": {
      "text/plain": [
       "0.0       0.0\n",
       "0.1      60.0\n",
       "0.2     108.5\n",
       "0.3     155.0\n",
       "0.4     209.5\n",
       "0.5     275.0\n",
       "0.6     360.0\n",
       "0.7     478.0\n",
       "0.8     656.5\n",
       "0.9    1028.0\n",
       "Name: AVG_amt_data_6_7, dtype: float64"
      ]
     },
     "execution_count": 5,
     "metadata": {},
     "output_type": "execute_result"
    }
   ],
   "source": [
    "data['AVG_amt_data_6_7'].quantile(np.arange(0, 1, 0.1))"
   ]
  },
  {
   "cell_type": "code",
   "execution_count": 6,
   "metadata": {},
   "outputs": [
    {
     "name": "stdout",
     "output_type": "stream",
     "text": [
      "<class 'pandas.core.frame.DataFrame'>\n",
      "Int64Index: 29953 entries, 0 to 99997\n",
      "Columns: 231 entries, mobile_number to AVG_amt_data_6_7\n",
      "dtypes: float64(184), int64(35), object(12)\n",
      "memory usage: 53.0+ MB\n"
     ]
    }
   ],
   "source": [
    "df = data.copy()\n",
    "df = df[df['AVG_amt_data_6_7'] > df['AVG_amt_data_6_7'].quantile(0.7)]\n",
    "df.info()"
   ]
  },
  {
   "cell_type": "markdown",
   "metadata": {},
   "source": [
    "To decide which customers are going to churn we can look at the 4 parameters indicating the total incoming and outgoing calls in the last month and also how much mobile data was used. We select the churners if either incoming or outgoing calls and 2g or 3g data usage was equal to 0. With this condition we can filter all the customers and create a new column which assigns **1** to churners and **0** otherwise."
   ]
  },
  {
   "cell_type": "code",
   "execution_count": 7,
   "metadata": {},
   "outputs": [],
   "source": [
    "df['churn_flag'] = np.where(((df['total_ic_mou_9'] == 0.0) | (df['total_og_mou_9'] == 0.0))\n",
    "                            & ((df['vol_2g_mb_9'] == 0.0) | (df['vol_3g_mb_9'] == 0.0)), 1, 0)"
   ]
  },
  {
   "cell_type": "markdown",
   "metadata": {},
   "source": [
    "Since we only needed last month info to select the churners, we can delete all columns related to this month. Our training should not be based on the month in which customer already churned. For this we can use regular expressions to identify columns with **'_9'** and **'sep'** pattern and drop them."
   ]
  },
  {
   "cell_type": "code",
   "execution_count": 8,
   "metadata": {},
   "outputs": [],
   "source": [
    "df.drop(df.filter(regex='_9|sep').columns, axis=1, inplace=True)"
   ]
  },
  {
   "cell_type": "code",
   "execution_count": 9,
   "metadata": {},
   "outputs": [
    {
     "name": "stdout",
     "output_type": "stream",
     "text": [
      "<class 'pandas.core.frame.DataFrame'>\n",
      "Int64Index: 29953 entries, 0 to 99997\n",
      "Data columns (total 177 columns):\n",
      " #   Column                    Dtype  \n",
      "---  ------                    -----  \n",
      " 0   mobile_number             int64  \n",
      " 1   circle_id                 int64  \n",
      " 2   loc_og_t2o_mou            float64\n",
      " 3   std_og_t2o_mou            float64\n",
      " 4   loc_ic_t2o_mou            float64\n",
      " 5   last_date_of_month_6      object \n",
      " 6   last_date_of_month_7      object \n",
      " 7   last_date_of_month_8      object \n",
      " 8   arpu_6                    float64\n",
      " 9   arpu_7                    float64\n",
      " 10  arpu_8                    float64\n",
      " 11  onnet_mou_6               float64\n",
      " 12  onnet_mou_7               float64\n",
      " 13  onnet_mou_8               float64\n",
      " 14  offnet_mou_6              float64\n",
      " 15  offnet_mou_7              float64\n",
      " 16  offnet_mou_8              float64\n",
      " 17  roam_ic_mou_6             float64\n",
      " 18  roam_ic_mou_7             float64\n",
      " 19  roam_ic_mou_8             float64\n",
      " 20  roam_og_mou_6             float64\n",
      " 21  roam_og_mou_7             float64\n",
      " 22  roam_og_mou_8             float64\n",
      " 23  loc_og_t2t_mou_6          float64\n",
      " 24  loc_og_t2t_mou_7          float64\n",
      " 25  loc_og_t2t_mou_8          float64\n",
      " 26  loc_og_t2m_mou_6          float64\n",
      " 27  loc_og_t2m_mou_7          float64\n",
      " 28  loc_og_t2m_mou_8          float64\n",
      " 29  loc_og_t2f_mou_6          float64\n",
      " 30  loc_og_t2f_mou_7          float64\n",
      " 31  loc_og_t2f_mou_8          float64\n",
      " 32  loc_og_t2c_mou_6          float64\n",
      " 33  loc_og_t2c_mou_7          float64\n",
      " 34  loc_og_t2c_mou_8          float64\n",
      " 35  loc_og_mou_6              float64\n",
      " 36  loc_og_mou_7              float64\n",
      " 37  loc_og_mou_8              float64\n",
      " 38  std_og_t2t_mou_6          float64\n",
      " 39  std_og_t2t_mou_7          float64\n",
      " 40  std_og_t2t_mou_8          float64\n",
      " 41  std_og_t2m_mou_6          float64\n",
      " 42  std_og_t2m_mou_7          float64\n",
      " 43  std_og_t2m_mou_8          float64\n",
      " 44  std_og_t2f_mou_6          float64\n",
      " 45  std_og_t2f_mou_7          float64\n",
      " 46  std_og_t2f_mou_8          float64\n",
      " 47  std_og_t2c_mou_6          float64\n",
      " 48  std_og_t2c_mou_7          float64\n",
      " 49  std_og_t2c_mou_8          float64\n",
      " 50  std_og_mou_6              float64\n",
      " 51  std_og_mou_7              float64\n",
      " 52  std_og_mou_8              float64\n",
      " 53  isd_og_mou_6              float64\n",
      " 54  isd_og_mou_7              float64\n",
      " 55  isd_og_mou_8              float64\n",
      " 56  spl_og_mou_6              float64\n",
      " 57  spl_og_mou_7              float64\n",
      " 58  spl_og_mou_8              float64\n",
      " 59  og_others_6               float64\n",
      " 60  og_others_7               float64\n",
      " 61  og_others_8               float64\n",
      " 62  total_og_mou_6            float64\n",
      " 63  total_og_mou_7            float64\n",
      " 64  total_og_mou_8            float64\n",
      " 65  loc_ic_t2t_mou_6          float64\n",
      " 66  loc_ic_t2t_mou_7          float64\n",
      " 67  loc_ic_t2t_mou_8          float64\n",
      " 68  loc_ic_t2m_mou_6          float64\n",
      " 69  loc_ic_t2m_mou_7          float64\n",
      " 70  loc_ic_t2m_mou_8          float64\n",
      " 71  loc_ic_t2f_mou_6          float64\n",
      " 72  loc_ic_t2f_mou_7          float64\n",
      " 73  loc_ic_t2f_mou_8          float64\n",
      " 74  loc_ic_mou_6              float64\n",
      " 75  loc_ic_mou_7              float64\n",
      " 76  loc_ic_mou_8              float64\n",
      " 77  std_ic_t2t_mou_6          float64\n",
      " 78  std_ic_t2t_mou_7          float64\n",
      " 79  std_ic_t2t_mou_8          float64\n",
      " 80  std_ic_t2m_mou_6          float64\n",
      " 81  std_ic_t2m_mou_7          float64\n",
      " 82  std_ic_t2m_mou_8          float64\n",
      " 83  std_ic_t2f_mou_6          float64\n",
      " 84  std_ic_t2f_mou_7          float64\n",
      " 85  std_ic_t2f_mou_8          float64\n",
      " 86  std_ic_t2o_mou_6          float64\n",
      " 87  std_ic_t2o_mou_7          float64\n",
      " 88  std_ic_t2o_mou_8          float64\n",
      " 89  std_ic_mou_6              float64\n",
      " 90  std_ic_mou_7              float64\n",
      " 91  std_ic_mou_8              float64\n",
      " 92  total_ic_mou_6            float64\n",
      " 93  total_ic_mou_7            float64\n",
      " 94  total_ic_mou_8            float64\n",
      " 95  spl_ic_mou_6              float64\n",
      " 96  spl_ic_mou_7              float64\n",
      " 97  spl_ic_mou_8              float64\n",
      " 98  isd_ic_mou_6              float64\n",
      " 99  isd_ic_mou_7              float64\n",
      " 100 isd_ic_mou_8              float64\n",
      " 101 ic_others_6               float64\n",
      " 102 ic_others_7               float64\n",
      " 103 ic_others_8               float64\n",
      " 104 total_rech_num_6          int64  \n",
      " 105 total_rech_num_7          int64  \n",
      " 106 total_rech_num_8          int64  \n",
      " 107 total_rech_amt_6          int64  \n",
      " 108 total_rech_amt_7          int64  \n",
      " 109 total_rech_amt_8          int64  \n",
      " 110 max_rech_amt_6            int64  \n",
      " 111 max_rech_amt_7            int64  \n",
      " 112 max_rech_amt_8            int64  \n",
      " 113 date_of_last_rech_6       object \n",
      " 114 date_of_last_rech_7       object \n",
      " 115 date_of_last_rech_8       object \n",
      " 116 last_day_rch_amt_6        int64  \n",
      " 117 last_day_rch_amt_7        int64  \n",
      " 118 last_day_rch_amt_8        int64  \n",
      " 119 date_of_last_rech_data_6  object \n",
      " 120 date_of_last_rech_data_7  object \n",
      " 121 date_of_last_rech_data_8  object \n",
      " 122 total_rech_data_6         float64\n",
      " 123 total_rech_data_7         float64\n",
      " 124 total_rech_data_8         float64\n",
      " 125 max_rech_data_6           float64\n",
      " 126 max_rech_data_7           float64\n",
      " 127 max_rech_data_8           float64\n",
      " 128 count_rech_2g_6           float64\n",
      " 129 count_rech_2g_7           float64\n",
      " 130 count_rech_2g_8           float64\n",
      " 131 count_rech_3g_6           float64\n",
      " 132 count_rech_3g_7           float64\n",
      " 133 count_rech_3g_8           float64\n",
      " 134 av_rech_amt_data_6        float64\n",
      " 135 av_rech_amt_data_7        float64\n",
      " 136 av_rech_amt_data_8        float64\n",
      " 137 vol_2g_mb_6               float64\n",
      " 138 vol_2g_mb_7               float64\n",
      " 139 vol_2g_mb_8               float64\n",
      " 140 vol_3g_mb_6               float64\n",
      " 141 vol_3g_mb_7               float64\n",
      " 142 vol_3g_mb_8               float64\n",
      " 143 arpu_3g_6                 float64\n",
      " 144 arpu_3g_7                 float64\n",
      " 145 arpu_3g_8                 float64\n",
      " 146 arpu_2g_6                 float64\n",
      " 147 arpu_2g_7                 float64\n",
      " 148 arpu_2g_8                 float64\n",
      " 149 night_pck_user_6          float64\n",
      " 150 night_pck_user_7          float64\n",
      " 151 night_pck_user_8          float64\n",
      " 152 monthly_2g_6              int64  \n",
      " 153 monthly_2g_7              int64  \n",
      " 154 monthly_2g_8              int64  \n",
      " 155 sachet_2g_6               int64  \n",
      " 156 sachet_2g_7               int64  \n",
      " 157 sachet_2g_8               int64  \n",
      " 158 monthly_3g_6              int64  \n",
      " 159 monthly_3g_7              int64  \n",
      " 160 monthly_3g_8              int64  \n",
      " 161 sachet_3g_6               int64  \n",
      " 162 sachet_3g_7               int64  \n",
      " 163 sachet_3g_8               int64  \n",
      " 164 fb_user_6                 float64\n",
      " 165 fb_user_7                 float64\n",
      " 166 fb_user_8                 float64\n",
      " 167 aon                       int64  \n",
      " 168 aug_vbc_3g                float64\n",
      " 169 jul_vbc_3g                float64\n",
      " 170 jun_vbc_3g                float64\n",
      " 171 total_data_rech_6         float64\n",
      " 172 total_data_rech_7         float64\n",
      " 173 amt_data_6                float64\n",
      " 174 amt_data_7                float64\n",
      " 175 AVG_amt_data_6_7          float64\n",
      " 176 churn_flag                int32  \n",
      "dtypes: float64(140), int32(1), int64(27), object(9)\n",
      "memory usage: 40.6+ MB\n"
     ]
    }
   ],
   "source": [
    "df.info(verbose=True)"
   ]
  },
  {
   "cell_type": "markdown",
   "metadata": {},
   "source": [
    "In the next step we can look fow the number of unique values for each feature. Here we can easily notice that some features have only single value. This means that we can drop these features as they do not give us any valuable information."
   ]
  },
  {
   "cell_type": "code",
   "execution_count": 10,
   "metadata": {},
   "outputs": [
    {
     "data": {
      "text/plain": [
       "mobile_number        29953\n",
       "circle_id                1\n",
       "loc_og_t2o_mou           1\n",
       "std_og_t2o_mou           1\n",
       "loc_ic_t2o_mou           1\n",
       "                     ...  \n",
       "total_data_rech_7     1745\n",
       "amt_data_6            3801\n",
       "amt_data_7            4015\n",
       "AVG_amt_data_6_7      5182\n",
       "churn_flag               2\n",
       "Length: 177, dtype: int64"
      ]
     },
     "execution_count": 10,
     "metadata": {},
     "output_type": "execute_result"
    }
   ],
   "source": [
    "df.nunique()"
   ]
  },
  {
   "cell_type": "code",
   "execution_count": 11,
   "metadata": {},
   "outputs": [],
   "source": [
    "df.drop(columns=df.columns[df.nunique()==1], axis=1, inplace=True)"
   ]
  },
  {
   "cell_type": "markdown",
   "metadata": {},
   "source": [
    "Now we have to check how many missing values we have in all the columns. We can display it as the fraction of the entire dataset in percentages."
   ]
  },
  {
   "cell_type": "code",
   "execution_count": 12,
   "metadata": {},
   "outputs": [
    {
     "data": {
      "text/plain": [
       "date_of_last_rech_data_8    46.799987\n",
       "total_rech_data_8           46.799987\n",
       "night_pck_user_8            46.799987\n",
       "arpu_2g_8                   46.799987\n",
       "arpu_3g_8                   46.799987\n",
       "                              ...    \n",
       "last_day_rch_amt_7           0.000000\n",
       "last_day_rch_amt_8           0.000000\n",
       "vol_2g_mb_6                  0.000000\n",
       "vol_2g_mb_7                  0.000000\n",
       "mobile_number                0.000000\n",
       "Length: 164, dtype: float64"
      ]
     },
     "execution_count": 12,
     "metadata": {},
     "output_type": "execute_result"
    }
   ],
   "source": [
    "(df.isna().sum() * 100 / len(df)).sort_values(ascending=False)"
   ]
  },
  {
   "cell_type": "markdown",
   "metadata": {},
   "source": [
    "It seems that most of the missing values comes from the data related features. Now we can check for the data related features in eg. last month for which eg. **arpu_3g_8** is missing. It is clear that these customers have not bought any data in that specific month so that we can safely replace all missing values here with 0. Same happens for month 6 and 7"
   ]
  },
  {
   "cell_type": "code",
   "execution_count": 13,
   "metadata": {},
   "outputs": [
    {
     "data": {
      "text/html": [
       "<div>\n",
       "<style scoped>\n",
       "    .dataframe tbody tr th:only-of-type {\n",
       "        vertical-align: middle;\n",
       "    }\n",
       "\n",
       "    .dataframe tbody tr th {\n",
       "        vertical-align: top;\n",
       "    }\n",
       "\n",
       "    .dataframe thead th {\n",
       "        text-align: right;\n",
       "    }\n",
       "</style>\n",
       "<table border=\"1\" class=\"dataframe\">\n",
       "  <thead>\n",
       "    <tr style=\"text-align: right;\">\n",
       "      <th></th>\n",
       "      <th>date_of_last_rech_data_8</th>\n",
       "      <th>total_rech_data_8</th>\n",
       "      <th>max_rech_data_8</th>\n",
       "      <th>count_rech_2g_8</th>\n",
       "      <th>count_rech_3g_8</th>\n",
       "      <th>av_rech_amt_data_8</th>\n",
       "      <th>vol_2g_mb_8</th>\n",
       "      <th>vol_3g_mb_8</th>\n",
       "      <th>arpu_2g_8</th>\n",
       "      <th>night_pck_user_8</th>\n",
       "      <th>monthly_2g_8</th>\n",
       "      <th>sachet_2g_8</th>\n",
       "      <th>monthly_3g_8</th>\n",
       "      <th>sachet_3g_8</th>\n",
       "      <th>fb_user_8</th>\n",
       "    </tr>\n",
       "  </thead>\n",
       "  <tbody>\n",
       "    <tr>\n",
       "      <th>7</th>\n",
       "      <td>NaN</td>\n",
       "      <td>NaN</td>\n",
       "      <td>NaN</td>\n",
       "      <td>NaN</td>\n",
       "      <td>NaN</td>\n",
       "      <td>NaN</td>\n",
       "      <td>0.0</td>\n",
       "      <td>0.0</td>\n",
       "      <td>NaN</td>\n",
       "      <td>NaN</td>\n",
       "      <td>0</td>\n",
       "      <td>0</td>\n",
       "      <td>0</td>\n",
       "      <td>0</td>\n",
       "      <td>NaN</td>\n",
       "    </tr>\n",
       "    <tr>\n",
       "      <th>21</th>\n",
       "      <td>NaN</td>\n",
       "      <td>NaN</td>\n",
       "      <td>NaN</td>\n",
       "      <td>NaN</td>\n",
       "      <td>NaN</td>\n",
       "      <td>NaN</td>\n",
       "      <td>0.0</td>\n",
       "      <td>0.0</td>\n",
       "      <td>NaN</td>\n",
       "      <td>NaN</td>\n",
       "      <td>0</td>\n",
       "      <td>0</td>\n",
       "      <td>0</td>\n",
       "      <td>0</td>\n",
       "      <td>NaN</td>\n",
       "    </tr>\n",
       "    <tr>\n",
       "      <th>38</th>\n",
       "      <td>NaN</td>\n",
       "      <td>NaN</td>\n",
       "      <td>NaN</td>\n",
       "      <td>NaN</td>\n",
       "      <td>NaN</td>\n",
       "      <td>NaN</td>\n",
       "      <td>0.0</td>\n",
       "      <td>0.0</td>\n",
       "      <td>NaN</td>\n",
       "      <td>NaN</td>\n",
       "      <td>0</td>\n",
       "      <td>0</td>\n",
       "      <td>0</td>\n",
       "      <td>0</td>\n",
       "      <td>NaN</td>\n",
       "    </tr>\n",
       "    <tr>\n",
       "      <th>41</th>\n",
       "      <td>NaN</td>\n",
       "      <td>NaN</td>\n",
       "      <td>NaN</td>\n",
       "      <td>NaN</td>\n",
       "      <td>NaN</td>\n",
       "      <td>NaN</td>\n",
       "      <td>0.0</td>\n",
       "      <td>0.0</td>\n",
       "      <td>NaN</td>\n",
       "      <td>NaN</td>\n",
       "      <td>0</td>\n",
       "      <td>0</td>\n",
       "      <td>0</td>\n",
       "      <td>0</td>\n",
       "      <td>NaN</td>\n",
       "    </tr>\n",
       "    <tr>\n",
       "      <th>48</th>\n",
       "      <td>NaN</td>\n",
       "      <td>NaN</td>\n",
       "      <td>NaN</td>\n",
       "      <td>NaN</td>\n",
       "      <td>NaN</td>\n",
       "      <td>NaN</td>\n",
       "      <td>0.0</td>\n",
       "      <td>0.0</td>\n",
       "      <td>NaN</td>\n",
       "      <td>NaN</td>\n",
       "      <td>0</td>\n",
       "      <td>0</td>\n",
       "      <td>0</td>\n",
       "      <td>0</td>\n",
       "      <td>NaN</td>\n",
       "    </tr>\n",
       "  </tbody>\n",
       "</table>\n",
       "</div>"
      ],
      "text/plain": [
       "   date_of_last_rech_data_8  total_rech_data_8  max_rech_data_8  \\\n",
       "7                       NaN                NaN              NaN   \n",
       "21                      NaN                NaN              NaN   \n",
       "38                      NaN                NaN              NaN   \n",
       "41                      NaN                NaN              NaN   \n",
       "48                      NaN                NaN              NaN   \n",
       "\n",
       "    count_rech_2g_8  count_rech_3g_8  av_rech_amt_data_8  vol_2g_mb_8  \\\n",
       "7               NaN              NaN                 NaN          0.0   \n",
       "21              NaN              NaN                 NaN          0.0   \n",
       "38              NaN              NaN                 NaN          0.0   \n",
       "41              NaN              NaN                 NaN          0.0   \n",
       "48              NaN              NaN                 NaN          0.0   \n",
       "\n",
       "    vol_3g_mb_8  arpu_2g_8  night_pck_user_8  monthly_2g_8  sachet_2g_8  \\\n",
       "7           0.0        NaN               NaN             0            0   \n",
       "21          0.0        NaN               NaN             0            0   \n",
       "38          0.0        NaN               NaN             0            0   \n",
       "41          0.0        NaN               NaN             0            0   \n",
       "48          0.0        NaN               NaN             0            0   \n",
       "\n",
       "    monthly_3g_8  sachet_3g_8  fb_user_8  \n",
       "7              0            0        NaN  \n",
       "21             0            0        NaN  \n",
       "38             0            0        NaN  \n",
       "41             0            0        NaN  \n",
       "48             0            0        NaN  "
      ]
     },
     "execution_count": 13,
     "metadata": {},
     "output_type": "execute_result"
    }
   ],
   "source": [
    "df[df['arpu_3g_8'].isna()][['date_of_last_rech_data_8','total_rech_data_8','max_rech_data_8','count_rech_2g_8', \n",
    "                            'count_rech_3g_8', 'av_rech_amt_data_8', 'vol_2g_mb_8', 'vol_3g_mb_8', 'arpu_2g_8',\n",
    "                            'night_pck_user_8', 'monthly_2g_8', 'sachet_2g_8', 'monthly_3g_8', 'sachet_3g_8',\n",
    "                            'fb_user_8']].head()"
   ]
  },
  {
   "cell_type": "code",
   "execution_count": 14,
   "metadata": {},
   "outputs": [
    {
     "data": {
      "text/plain": [
       "date_of_last_rech_data_8    0\n",
       "total_rech_data_8           0\n",
       "max_rech_data_8             0\n",
       "count_rech_2g_8             0\n",
       "count_rech_3g_8             0\n",
       "av_rech_amt_data_8          0\n",
       "vol_2g_mb_8                 1\n",
       "vol_3g_mb_8                 1\n",
       "arpu_2g_8                   0\n",
       "night_pck_user_8            0\n",
       "monthly_2g_8                1\n",
       "sachet_2g_8                 1\n",
       "monthly_3g_8                1\n",
       "sachet_3g_8                 1\n",
       "fb_user_8                   0\n",
       "dtype: int64"
      ]
     },
     "execution_count": 14,
     "metadata": {},
     "output_type": "execute_result"
    }
   ],
   "source": [
    "df[df['arpu_3g_8'].isna()][['date_of_last_rech_data_8','total_rech_data_8','max_rech_data_8','count_rech_2g_8', \n",
    "                            'count_rech_3g_8', 'av_rech_amt_data_8', 'vol_2g_mb_8', 'vol_3g_mb_8', 'arpu_2g_8',\n",
    "                            'night_pck_user_8', 'monthly_2g_8', 'sachet_2g_8', 'monthly_3g_8', 'sachet_3g_8',\n",
    "                            'fb_user_8']].nunique()"
   ]
  },
  {
   "cell_type": "code",
   "execution_count": 15,
   "metadata": {},
   "outputs": [],
   "source": [
    "df.fillna(0, inplace=True)"
   ]
  },
  {
   "cell_type": "markdown",
   "metadata": {},
   "source": [
    "The next step is to check if we have any features of type **object** as we will have to convert them to numerical type for training."
   ]
  },
  {
   "cell_type": "code",
   "execution_count": 16,
   "metadata": {},
   "outputs": [
    {
     "data": {
      "text/plain": [
       "mobile_number          int64\n",
       "arpu_6               float64\n",
       "arpu_7               float64\n",
       "arpu_8               float64\n",
       "onnet_mou_6          float64\n",
       "                      ...   \n",
       "total_data_rech_7    float64\n",
       "amt_data_6           float64\n",
       "amt_data_7           float64\n",
       "AVG_amt_data_6_7     float64\n",
       "churn_flag             int32\n",
       "Length: 164, dtype: object"
      ]
     },
     "execution_count": 16,
     "metadata": {},
     "output_type": "execute_result"
    }
   ],
   "source": [
    "df.dtypes"
   ]
  },
  {
   "cell_type": "markdown",
   "metadata": {},
   "source": [
    "It looks like there are 6 object type features which are dates. First let's convert them to **datetime** format."
   ]
  },
  {
   "cell_type": "code",
   "execution_count": 17,
   "metadata": {},
   "outputs": [],
   "source": [
    "df['date_of_last_rech_6'] = pd.to_datetime(df['date_of_last_rech_6'])\n",
    "df['date_of_last_rech_7'] = pd.to_datetime(df['date_of_last_rech_7'])\n",
    "df['date_of_last_rech_8'] = pd.to_datetime(df['date_of_last_rech_8'])\n",
    "df['date_of_last_rech_data_6'] = pd.to_datetime(df['date_of_last_rech_data_6'])\n",
    "df['date_of_last_rech_data_7'] = pd.to_datetime(df['date_of_last_rech_data_7'])\n",
    "df['date_of_last_rech_data_8'] = pd.to_datetime(df['date_of_last_rech_data_8'])"
   ]
  },
  {
   "cell_type": "markdown",
   "metadata": {},
   "source": [
    "To get valuable information from raw dates of last recharge, we should extract the day number in the specific month to see if maybe certain days cause some issues."
   ]
  },
  {
   "cell_type": "code",
   "execution_count": 18,
   "metadata": {},
   "outputs": [],
   "source": [
    "df['date_of_last_rech_day_6'] = df['date_of_last_rech_6'].dt.day\n",
    "df['date_of_last_rech_day_7'] = df['date_of_last_rech_7'].dt.day\n",
    "df['date_of_last_rech_day_8'] = df['date_of_last_rech_8'].dt.day\n",
    "df['date_of_last_rech_data_day_6'] = df['date_of_last_rech_data_6'].dt.day\n",
    "df['date_of_last_rech_data_day_7'] = df['date_of_last_rech_data_7'].dt.day\n",
    "df['date_of_last_rech_data_day_8'] = df['date_of_last_rech_data_8'].dt.day"
   ]
  },
  {
   "cell_type": "markdown",
   "metadata": {},
   "source": [
    "Below we can see 20 top correlations between the target and features. They are relatively low."
   ]
  },
  {
   "cell_type": "code",
   "execution_count": 19,
   "metadata": {},
   "outputs": [
    {
     "data": {
      "text/plain": [
       "<AxesSubplot:>"
      ]
     },
     "execution_count": 19,
     "metadata": {},
     "output_type": "execute_result"
    },
    {
     "data": {
      "image/png": "[encoded data removed]",
      "text/plain": [
       "<Figure size 1800x720 with 1 Axes>"
      ]
     },
     "metadata": {
      "needs_background": "light"
     },
     "output_type": "display_data"
    }
   ],
   "source": [
    "plt.figure(figsize=(25,10))\n",
    "df.corr()['churn_flag'].sort_values(ascending=False)[:20].plot(kind ='bar')"
   ]
  },
  {
   "cell_type": "markdown",
   "metadata": {},
   "source": [
    "We have lots of features and it is very likely that some of them won't be really helpful for the model to learn. Therefore it is good to check correlations between each of the feature with any other feature and derive some new insight for highly correlated features. Below we can see that correlation is very high for the same features with only vayring month. Let's derive a new feature which will tell us if the average from month 6 and 7 is larger or smaller then the value in month 8. This can be a good indication that something starts to happen in the **\"action\"** month."
   ]
  },
  {
   "cell_type": "code",
   "execution_count": 20,
   "metadata": {},
   "outputs": [
    {
     "data": {
      "text/html": [
       "<div>\n",
       "<style scoped>\n",
       "    .dataframe tbody tr th:only-of-type {\n",
       "        vertical-align: middle;\n",
       "    }\n",
       "\n",
       "    .dataframe tbody tr th {\n",
       "        vertical-align: top;\n",
       "    }\n",
       "\n",
       "    .dataframe thead th {\n",
       "        text-align: right;\n",
       "    }\n",
       "</style>\n",
       "<table border=\"1\" class=\"dataframe\">\n",
       "  <thead>\n",
       "    <tr style=\"text-align: right;\">\n",
       "      <th></th>\n",
       "      <th>level_0</th>\n",
       "      <th>level_1</th>\n",
       "      <th>0</th>\n",
       "    </tr>\n",
       "  </thead>\n",
       "  <tbody>\n",
       "    <tr>\n",
       "      <th>0</th>\n",
       "      <td>mobile_number</td>\n",
       "      <td>mobile_number</td>\n",
       "      <td>1.000000</td>\n",
       "    </tr>\n",
       "    <tr>\n",
       "      <th>6930</th>\n",
       "      <td>std_og_mou_8</td>\n",
       "      <td>std_og_mou_8</td>\n",
       "      <td>1.000000</td>\n",
       "    </tr>\n",
       "    <tr>\n",
       "      <th>9900</th>\n",
       "      <td>loc_ic_t2m_mou_8</td>\n",
       "      <td>loc_ic_t2m_mou_8</td>\n",
       "      <td>1.000000</td>\n",
       "    </tr>\n",
       "    <tr>\n",
       "      <th>9735</th>\n",
       "      <td>loc_ic_t2m_mou_7</td>\n",
       "      <td>loc_ic_t2m_mou_7</td>\n",
       "      <td>1.000000</td>\n",
       "    </tr>\n",
       "    <tr>\n",
       "      <th>9570</th>\n",
       "      <td>loc_ic_t2m_mou_6</td>\n",
       "      <td>loc_ic_t2m_mou_6</td>\n",
       "      <td>1.000000</td>\n",
       "    </tr>\n",
       "    <tr>\n",
       "      <th>...</th>\n",
       "      <td>...</td>\n",
       "      <td>...</td>\n",
       "      <td>...</td>\n",
       "    </tr>\n",
       "    <tr>\n",
       "      <th>8838</th>\n",
       "      <td>total_og_mou_7</td>\n",
       "      <td>fb_user_7</td>\n",
       "      <td>-0.370776</td>\n",
       "    </tr>\n",
       "    <tr>\n",
       "      <th>23996</th>\n",
       "      <td>fb_user_7</td>\n",
       "      <td>total_og_mou_6</td>\n",
       "      <td>-0.381512</td>\n",
       "    </tr>\n",
       "    <tr>\n",
       "      <th>8674</th>\n",
       "      <td>total_og_mou_6</td>\n",
       "      <td>fb_user_7</td>\n",
       "      <td>-0.381512</td>\n",
       "    </tr>\n",
       "    <tr>\n",
       "      <th>8837</th>\n",
       "      <td>total_og_mou_7</td>\n",
       "      <td>fb_user_6</td>\n",
       "      <td>-0.387997</td>\n",
       "    </tr>\n",
       "    <tr>\n",
       "      <th>23833</th>\n",
       "      <td>fb_user_6</td>\n",
       "      <td>total_og_mou_7</td>\n",
       "      <td>-0.387997</td>\n",
       "    </tr>\n",
       "  </tbody>\n",
       "</table>\n",
       "<p>26896 rows × 3 columns</p>\n",
       "</div>"
      ],
      "text/plain": [
       "                level_0           level_1         0\n",
       "0         mobile_number     mobile_number  1.000000\n",
       "6930       std_og_mou_8      std_og_mou_8  1.000000\n",
       "9900   loc_ic_t2m_mou_8  loc_ic_t2m_mou_8  1.000000\n",
       "9735   loc_ic_t2m_mou_7  loc_ic_t2m_mou_7  1.000000\n",
       "9570   loc_ic_t2m_mou_6  loc_ic_t2m_mou_6  1.000000\n",
       "...                 ...               ...       ...\n",
       "8838     total_og_mou_7         fb_user_7 -0.370776\n",
       "23996         fb_user_7    total_og_mou_6 -0.381512\n",
       "8674     total_og_mou_6         fb_user_7 -0.381512\n",
       "8837     total_og_mou_7         fb_user_6 -0.387997\n",
       "23833         fb_user_6    total_og_mou_7 -0.387997\n",
       "\n",
       "[26896 rows x 3 columns]"
      ]
     },
     "execution_count": 20,
     "metadata": {},
     "output_type": "execute_result"
    }
   ],
   "source": [
    "df.corr().stack().reset_index().sort_values(by=0, ascending=False)"
   ]
  },
  {
   "cell_type": "code",
   "execution_count": 21,
   "metadata": {},
   "outputs": [],
   "source": [
    "df['AVG_arpu_6_7'] = df[['arpu_6','arpu_7']].mean(axis=1)\n",
    "df['is_arpu_flag'] = np.where((df['arpu_8'] > df['AVG_arpu_6_7']), 0, 1)\n",
    "\n",
    "df['AVG_onnet_mou_6_7'] = df[['onnet_mou_6','onnet_mou_7']].mean(axis=1)\n",
    "df['is_onnet_mou_flag'] = np.where((df['onnet_mou_8'] > df['AVG_onnet_mou_6_7']), 0, 1)\n",
    "\n",
    "df['AVG_offnet_mou_6_7'] = df[['offnet_mou_6','offnet_mou_7']].mean(axis=1)\n",
    "df['is_offnet_mou_flag'] = np.where((df['offnet_mou_8'] > df['AVG_offnet_mou_6_7']), 0, 1)\n",
    "\n",
    "df['AVG_roam_ic_mou_6_7'] = df[['roam_ic_mou_6','roam_ic_mou_7']].mean(axis=1)\n",
    "df['is_roam_ic_mou_flag'] = np.where((df['roam_ic_mou_8'] > df['AVG_roam_ic_mou_6_7']), 0, 1)\n",
    "\n",
    "df['AVG_roam_og_mou_6_7'] = df[['roam_og_mou_6','roam_og_mou_7']].mean(axis=1)\n",
    "df['is_roam_og_mou_flag'] = np.where((df['roam_og_mou_8'] > df['AVG_roam_og_mou_6_7']), 0, 1)\n",
    "\n",
    "df['AVG_loc_og_t2t_mou_6_7'] = df[['loc_og_t2t_mou_6','loc_og_t2t_mou_7']].mean(axis=1)\n",
    "df['is_loc_og_t2t_mou_flag'] = np.where((df['loc_og_t2t_mou_8'] > df['AVG_loc_og_t2t_mou_6_7']), 0, 1)\n",
    "\n",
    "df['AVG_loc_og_t2m_mou_6_7'] = df[['loc_og_t2m_mou_6','loc_og_t2m_mou_7']].mean(axis=1)\n",
    "df['is_loc_og_t2m_mou_flag'] = np.where((df['loc_og_t2m_mou_8'] > df['AVG_loc_og_t2m_mou_6_7']), 0, 1)\n",
    "\n",
    "df['AVG_loc_og_t2f_mou_6_7'] = df[['loc_og_t2f_mou_6','loc_og_t2f_mou_7']].mean(axis=1)\n",
    "df['is_loc_og_t2f_mou_flag'] = np.where((df['loc_og_t2f_mou_8'] > df['AVG_loc_og_t2f_mou_6_7']), 0, 1)\n",
    "\n",
    "df['AVG_loc_og_t2c_mou_6_7'] = df[['loc_og_t2c_mou_6','loc_og_t2c_mou_7']].mean(axis=1)\n",
    "df['is_loc_og_t2c_mou_flag'] = np.where((df['loc_og_t2c_mou_8'] > df['AVG_loc_og_t2c_mou_6_7']), 0, 1)\n",
    "\n",
    "df['AVG_std_og_t2t_mou_6_7'] = df[['std_og_t2t_mou_6','std_og_t2t_mou_7']].mean(axis=1)\n",
    "df['is_std_og_t2t_mou_flag'] = np.where((df['std_og_t2t_mou_8'] > df['AVG_std_og_t2t_mou_6_7']), 0, 1)\n",
    "\n",
    "df['AVG_std_og_t2m_mou_6_7'] = df[['std_og_t2m_mou_6','std_og_t2m_mou_7']].mean(axis=1)\n",
    "df['is_std_og_t2m_mou_flag'] = np.where((df['std_og_t2m_mou_8'] > df['AVG_std_og_t2m_mou_6_7']), 0, 1)\n",
    "\n",
    "df['AVG_std_og_t2f_mou_6_7'] = df[['std_og_t2f_mou_6','std_og_t2f_mou_7']].mean(axis=1)\n",
    "df['is_std_og_t2f_mou_flag'] = np.where((df['std_og_t2f_mou_8'] > df['AVG_std_og_t2f_mou_6_7']), 0, 1)\n",
    "\n",
    "df['AVG_isd_og_mou_6_7'] = df[['isd_og_mou_6','isd_og_mou_7']].mean(axis=1)\n",
    "df['is_isd_og_mou_flag'] = np.where((df['isd_og_mou_8'] > df['AVG_isd_og_mou_6_7']), 0, 1)\n",
    "\n",
    "df['AVG_spl_og_mou_6_7'] = df[['spl_og_mou_6','spl_og_mou_7']].mean(axis=1)\n",
    "df['is_spl_og_mou_flag'] = np.where((df['spl_og_mou_8'] > df['AVG_spl_og_mou_6_7']), 0, 1)\n",
    "\n",
    "df['AVG_og_others_6_7'] = df[['og_others_6','og_others_7']].mean(axis=1)\n",
    "df['is_og_others_flag'] = np.where((df['og_others_8'] > df['AVG_og_others_6_7']), 0, 1)\n",
    "\n",
    "\n",
    "df['AVG_loc_ic_t2t_mou_6_7'] = df[['loc_ic_t2t_mou_6','loc_ic_t2t_mou_7']].mean(axis=1)\n",
    "df['is_loc_ic_t2t_mou_flag'] = np.where((df['loc_ic_t2t_mou_8'] > df['AVG_loc_ic_t2t_mou_6_7']), 0, 1)\n",
    "\n",
    "df['AVG_loc_ic_t2m_mou_6_7'] = df[['loc_ic_t2m_mou_6','loc_ic_t2m_mou_7']].mean(axis=1)\n",
    "df['is_loc_ic_t2m_mou_flag'] = np.where((df['loc_ic_t2m_mou_8'] > df['AVG_loc_ic_t2m_mou_6_7']), 0, 1)\n",
    "\n",
    "df['AVG_loc_ic_t2f_mou_6_7'] = df[['loc_ic_t2f_mou_6','loc_ic_t2f_mou_7']].mean(axis=1)\n",
    "df['is_loc_ic_t2f_mou_flag'] = np.where((df['loc_ic_t2f_mou_8'] > df['AVG_loc_ic_t2f_mou_6_7']), 0, 1)\n",
    "\n",
    "df['AVG_std_ic_t2t_mou_6_7'] = df[['std_ic_t2t_mou_6','std_ic_t2t_mou_7']].mean(axis=1)\n",
    "df['is_std_ic_t2t_mou_flag'] = np.where((df['std_ic_t2t_mou_8'] > df['AVG_std_ic_t2t_mou_6_7']), 0, 1)\n",
    "\n",
    "df['AVG_std_ic_t2m_mou_6_7'] = df[['std_ic_t2m_mou_6','std_ic_t2m_mou_7']].mean(axis=1)\n",
    "df['is_std_ic_t2m_mou_flag'] = np.where((df['std_ic_t2m_mou_8'] > df['AVG_std_ic_t2m_mou_6_7']), 0, 1)\n",
    "\n",
    "df['AVG_std_ic_t2f_mou_6_7'] = df[['std_ic_t2f_mou_6','std_ic_t2f_mou_7']].mean(axis=1)\n",
    "df['is_std_ic_t2f_mou_flag'] = np.where((df['std_ic_t2f_mou_8'] > df['AVG_std_ic_t2f_mou_6_7']), 0, 1)\n",
    "\n",
    "df['AVG_spl_ic_mou_6_7'] = df[['spl_ic_mou_6','spl_ic_mou_7']].mean(axis=1)\n",
    "df['is_spl_ic_mou_flag'] = np.where((df['spl_ic_mou_8'] > df['AVG_spl_ic_mou_6_7']), 0, 1)\n",
    "\n",
    "df['AVG_isd_ic_mou_6_7'] = df[['isd_ic_mou_6','isd_ic_mou_7']].mean(axis=1)\n",
    "df['is_isd_ic_mou_flag'] = np.where((df['isd_ic_mou_8'] > df['AVG_isd_ic_mou_6_7']), 0, 1)\n",
    "\n",
    "df['AVG_ic_others_6_7'] = df[['ic_others_6','ic_others_7']].mean(axis=1)\n",
    "df['is_ic_others_flag'] = np.where((df['ic_others_8'] > df['AVG_ic_others_6_7']), 0, 1)\n",
    "\n",
    "df['AVG_total_rech_amt_6_7'] = df[['total_rech_amt_6','total_rech_amt_7']].mean(axis=1)\n",
    "df['is_total_rech_amt_flag'] = np.where((df['total_rech_amt_8'] > df['AVG_total_rech_amt_6_7']), 0, 1)\n",
    "\n",
    "df['AVG_vol_2g_mb_6_7'] = df[['vol_2g_mb_6','vol_2g_mb_7']].mean(axis=1)\n",
    "df['is_vol_2g_mb_flag'] = np.where((df['vol_2g_mb_8'] > df['AVG_vol_2g_mb_6_7']), 0, 1)\n",
    "\n",
    "df['AVG_vol_3g_mb_6_7'] = df[['vol_3g_mb_6','vol_3g_mb_7']].mean(axis=1)\n",
    "df['is_vol_3g_mb_flag'] = np.where((df['vol_3g_mb_8'] > df['AVG_vol_3g_mb_6_7']), 0, 1)\n",
    "\n",
    "df['AVG_arpu_3g_6_7'] = df[['arpu_3g_6','arpu_3g_7']].mean(axis=1)\n",
    "df['is_arpu_3g_flag'] = np.where((df['arpu_3g_8'] > df['AVG_arpu_3g_6_7']), 0, 1)\n",
    "\n",
    "df['AVG_arpu_2g_6_7'] = df[['arpu_2g_6','arpu_2g_7']].mean(axis=1)\n",
    "df['is_arpu_2g_flag'] = np.where((df['arpu_2g_8'] > df['AVG_arpu_2g_6_7']), 0, 1)\n",
    "\n",
    "df['AVG_vbc_3g_6_7'] = df[['jun_vbc_3g','jul_vbc_3g']].mean(axis=1)\n",
    "df['is_vbc_3g_flag'] = np.where((df['aug_vbc_3g'] > df['AVG_vbc_3g_6_7']), 0, 1)\n",
    "\n",
    "df['AVG_loc_og_mou_6_7'] = df[['loc_og_mou_6','loc_og_mou_7']].mean(axis=1)\n",
    "df['is_loc_og_mou_flag'] = np.where((df['loc_og_mou_8'] > df['AVG_loc_og_mou_6_7']), 0, 1)\n",
    "\n",
    "df['AVG_std_og_mou_6_7'] = df[['std_og_mou_6','std_og_mou_7']].mean(axis=1)\n",
    "df['is_std_og_mou_flag'] = np.where((df['std_og_mou_8'] > df['AVG_std_og_mou_6_7']), 0, 1)\n",
    "\n",
    "df['AVG_total_og_mou_6_7'] = df[['total_og_mou_6','total_og_mou_7']].mean(axis=1)\n",
    "df['is_total_og_mou_flag'] = np.where((df['total_og_mou_8'] > df['AVG_total_og_mou_6_7']), 0, 1)\n",
    "\n",
    "df['AVG_loc_ic_mou_6_7'] = df[['loc_ic_mou_6','loc_ic_mou_7']].mean(axis=1)\n",
    "df['is_loc_ic_mou_flag'] = np.where((df['loc_ic_mou_8'] > df['AVG_loc_ic_mou_6_7']), 0, 1)\n",
    "\n",
    "df['AVG_std_ic_mou_6_7'] = df[['std_ic_mou_6','std_ic_mou_7']].mean(axis=1)\n",
    "df['is_std_ic_mou_flag'] = np.where((df['std_ic_mou_8'] > df['AVG_std_ic_mou_6_7']), 0, 1)\n",
    "\n",
    "df['AVG_total_ic_mou_6_7'] = df[['total_ic_mou_6','total_ic_mou_7']].mean(axis=1)\n",
    "df['is_total_ic_mou_flag'] = np.where((df['total_ic_mou_8'] > df['AVG_total_ic_mou_6_7']), 0, 1)\n",
    "\n",
    "df['AVG_night_pck_user_6_7'] = df[['night_pck_user_6','night_pck_user_7']].mean(axis=1)\n",
    "df['is_night_pck_user_flag'] = np.where((df['night_pck_user_8'] > df['AVG_night_pck_user_6_7']), 0, 1)\n",
    "\n",
    "df['AVG_monthly_2g_6_7'] = df[['monthly_2g_6','monthly_2g_7']].mean(axis=1)\n",
    "df['is_monthly_2g_flag'] = np.where((df['monthly_2g_8'] > df['AVG_monthly_2g_6_7']), 0, 1)\n",
    "\n",
    "df['AVG_sachet_2g_6_7'] = df[['sachet_2g_6','sachet_2g_7']].mean(axis=1)\n",
    "df['is_sachet_2g_flag'] = np.where((df['sachet_2g_8'] > df['AVG_sachet_2g_6_7']), 0, 1)\n",
    "\n",
    "df['AVG_monthly_3g_6_7'] = df[['monthly_3g_6','monthly_3g_7']].mean(axis=1)\n",
    "df['is_monthly_3g_flag'] = np.where((df['monthly_3g_8'] > df['AVG_monthly_3g_6_7']), 0, 1)\n",
    "\n",
    "df['AVG_sachet_3g_6_7'] = df[['sachet_3g_6','sachet_3g_7']].mean(axis=1)\n",
    "df['is_sachet_3g_flag'] = np.where((df['sachet_3g_8'] > df['AVG_sachet_3g_6_7']), 0, 1)\n",
    "\n",
    "df['AVG_fb_user_6_7'] = df[['fb_user_6','fb_user_7']].mean(axis=1)\n",
    "df['is_fb_user_flag'] = np.where((df['fb_user_8'] > df['AVG_fb_user_6_7']), 0, 1)"
   ]
  },
  {
   "cell_type": "markdown",
   "metadata": {},
   "source": [
    "For the other features we can calculate month on month change to examine if there is any indication about large deviations and rapid changes."
   ]
  },
  {
   "cell_type": "code",
   "execution_count": 22,
   "metadata": {},
   "outputs": [],
   "source": [
    "df['loc_og_t2t_mou_7diff6'] = df['loc_og_t2t_mou_7'] - df['loc_og_t2t_mou_6']\n",
    "df['loc_og_t2m_mou_7diff6'] = df['loc_og_t2m_mou_7'] - df['loc_og_t2m_mou_6']\n",
    "df['loc_og_t2f_mou_7diff6'] = df['loc_og_t2f_mou_7'] - df['loc_og_t2f_mou_6']\n",
    "df['loc_og_t2c_mou_7diff6'] = df['loc_og_t2c_mou_7'] - df['loc_og_t2c_mou_6']\n",
    "df['loc_og_mou_7diff6'] = df['loc_og_mou_7'] - df['loc_og_mou_6']\n",
    "df['std_og_t2t_mou_7diff6'] = df['std_og_t2t_mou_7'] - df['std_og_t2t_mou_6']\n",
    "df['std_og_t2m_mou_7diff6'] = df['std_og_t2m_mou_7'] - df['std_og_t2m_mou_6']\n",
    "df['std_og_t2f_mou_7diff6'] = df['std_og_t2f_mou_7'] - df['std_og_t2f_mou_6']\n",
    "df['std_og_mou_7diff6'] = df['std_og_mou_7'] - df['std_og_mou_6']\n",
    "df['loc_og_mou_7diff6'] = df['loc_og_mou_7'] - df['loc_og_mou_6']\n",
    "df['std_og_mou_7diff6'] = df['std_og_mou_7'] - df['std_og_mou_6']\n",
    "df['isd_og_mou_7diff6'] = df['isd_og_mou_7'] - df['isd_og_mou_6']\n",
    "df['spl_og_mou_7diff6'] = df['spl_og_mou_7'] - df['spl_og_mou_6']\n",
    "df['og_others_7diff6'] = df['og_others_7'] - df['og_others_6']\n",
    "df['total_og_mou_7diff6'] = df['total_og_mou_7'] - df['total_og_mou_6']\n",
    "\n",
    "df['loc_og_t2t_mou_8diff7'] = df['loc_og_t2t_mou_8'] - df['loc_og_t2t_mou_7']\n",
    "df['loc_og_t2m_mou_8diff7'] = df['loc_og_t2m_mou_8'] - df['loc_og_t2m_mou_7']\n",
    "df['loc_og_t2f_mou_8diff7'] = df['loc_og_t2f_mou_8'] - df['loc_og_t2f_mou_7']\n",
    "df['loc_og_t2c_mou_8diff7'] = df['loc_og_t2c_mou_8'] - df['loc_og_t2c_mou_7']\n",
    "df['loc_og_mou_8diff7'] = df['loc_og_mou_8'] - df['loc_og_mou_7']\n",
    "df['std_og_t2t_mou_8diff7'] = df['std_og_t2t_mou_8'] - df['std_og_t2t_mou_7']\n",
    "df['std_og_t2m_mou_8diff7'] = df['std_og_t2m_mou_8'] - df['std_og_t2m_mou_7']\n",
    "df['std_og_t2f_mou_8diff7'] = df['std_og_t2f_mou_8'] - df['std_og_t2f_mou_7']\n",
    "df['std_og_mou_8diff7'] = df['std_og_mou_8'] - df['std_og_mou_7']\n",
    "df['loc_og_mou_8diff7'] = df['loc_og_mou_8'] - df['loc_og_mou_7']\n",
    "df['std_og_mou_8diff7'] = df['std_og_mou_8'] - df['std_og_mou_7']\n",
    "df['isd_og_mou_8diff7'] = df['isd_og_mou_8'] - df['isd_og_mou_7']\n",
    "df['spl_og_mou_8diff7'] = df['spl_og_mou_8'] - df['spl_og_mou_7']\n",
    "df['og_others_8diff7'] = df['og_others_8'] - df['og_others_7']\n",
    "df['total_og_mou_8diff7'] = df['total_og_mou_8'] - df['total_og_mou_7']\n",
    "\n",
    "df['loc_ic_t2t_mou_7diff6'] = df['loc_ic_t2t_mou_7'] - df['loc_ic_t2t_mou_6']\n",
    "df['loc_ic_t2m_mou_7diff6'] = df['loc_ic_t2m_mou_7'] - df['loc_ic_t2m_mou_6']\n",
    "df['loc_ic_t2f_mou_7diff6'] = df['loc_ic_t2f_mou_7'] - df['loc_ic_t2f_mou_6']\n",
    "df['loc_ic_mou_7diff6'] = df['loc_ic_mou_7'] - df['loc_ic_mou_6']\n",
    "df['std_ic_t2t_mou_7diff6'] = df['std_ic_t2t_mou_7'] - df['std_ic_t2t_mou_6']\n",
    "df['std_ic_t2m_mou_7diff6'] = df['std_ic_t2m_mou_7'] - df['std_ic_t2m_mou_6']\n",
    "df['std_ic_t2f_mou_7diff6'] = df['std_ic_t2f_mou_7'] - df['std_ic_t2f_mou_6']\n",
    "df['std_ic_mou_7diff6'] = df['std_ic_mou_7'] - df['std_ic_mou_6']\n",
    "df['loc_ic_mou_7diff6'] = df['loc_ic_mou_7'] - df['loc_ic_mou_6']\n",
    "df['std_ic_mou_7diff6'] = df['std_ic_mou_7'] - df['std_ic_mou_6']\n",
    "df['spl_ic_mou_7diff6'] = df['spl_ic_mou_7'] - df['spl_ic_mou_6']\n",
    "df['isd_ic_mou_7diff6'] = df['isd_ic_mou_7'] - df['isd_ic_mou_6']\n",
    "df['ic_others_7diff6'] = df['ic_others_7'] - df['ic_others_6']\n",
    "df['total_ic_mou_7diff6'] = df['total_ic_mou_7'] - df['total_ic_mou_6']\n",
    "\n",
    "df['loc_ic_t2t_mou_8diff7'] = df['loc_ic_t2t_mou_8'] - df['loc_ic_t2t_mou_7']\n",
    "df['loc_ic_t2m_mou_8diff7'] = df['loc_ic_t2m_mou_8'] - df['loc_ic_t2m_mou_7']\n",
    "df['loc_ic_t2f_mou_8diff7'] = df['loc_ic_t2f_mou_8'] - df['loc_ic_t2f_mou_7']\n",
    "df['loc_ic_mou_8diff7'] = df['loc_ic_mou_8'] - df['loc_ic_mou_7']\n",
    "df['std_ic_t2t_mou_8diff7'] = df['std_ic_t2t_mou_8'] - df['std_ic_t2t_mou_7']\n",
    "df['std_ic_t2m_mou_8diff7'] = df['std_ic_t2m_mou_8'] - df['std_ic_t2m_mou_7']\n",
    "df['std_ic_t2f_mou_8diff7'] = df['std_ic_t2f_mou_8'] - df['std_ic_t2f_mou_7']\n",
    "df['std_ic_mou_8diff7'] = df['std_ic_mou_8'] - df['std_ic_mou_7']\n",
    "df['loc_ic_mou_8diff7'] = df['loc_ic_mou_8'] - df['loc_ic_mou_7']\n",
    "df['std_ic_mou_8diff7'] = df['std_ic_mou_8'] - df['std_ic_mou_7']\n",
    "df['spl_ic_mou_8diff7'] = df['spl_ic_mou_8'] - df['spl_ic_mou_7']\n",
    "df['isd_ic_mou_8diff7'] = df['isd_ic_mou_8'] - df['isd_ic_mou_7']\n",
    "df['ic_others_8diff7'] = df['ic_others_8'] - df['ic_others_7']\n",
    "df['total_ic_mou_8diff7'] = df['total_ic_mou_8'] - df['total_ic_mou_7']\n",
    "\n",
    "df['onnet_mou_7diff6'] = df['onnet_mou_7'] - df['onnet_mou_6']\n",
    "df['onnet_mou_8diff7'] = df['onnet_mou_8'] - df['onnet_mou_7']\n",
    "\n",
    "df['offnet_mou_7diff6'] = df['offnet_mou_7'] - df['offnet_mou_6']\n",
    "df['offnet_mou_8diff7'] = df['offnet_mou_8'] - df['offnet_mou_7']\n",
    "\n",
    "df['roam_ic_mou_7diff6'] = df['roam_ic_mou_7'] - df['roam_ic_mou_6']\n",
    "df['roam_ic_mou_8diff7'] = df['roam_ic_mou_8'] - df['roam_ic_mou_7']\n",
    "\n",
    "df['roam_og_mou_7diff6'] = df['roam_og_mou_7'] - df['roam_og_mou_6']\n",
    "df['roam_og_mou_8diff7'] = df['roam_og_mou_8'] - df['roam_og_mou_7']\n",
    "\n",
    "df['total_rech_amt_7diff6'] = df['total_rech_amt_7'] - df['total_rech_amt_6']\n",
    "df['total_rech_amt_8diff7'] = df['total_rech_amt_8'] - df['total_rech_amt_7']\n",
    "\n",
    "df['date_of_last_rech_7diff6'] = (df['date_of_last_rech_7'] - df['date_of_last_rech_6']).dt.days\n",
    "df['date_of_last_rech_8diff7'] = (df['date_of_last_rech_8'] - df['date_of_last_rech_7']).dt.days\n",
    "\n",
    "df['date_of_last_rech_data_7diff6'] = (df['date_of_last_rech_data_7'] - df['date_of_last_rech_data_6']).dt.days\n",
    "df['date_of_last_rech_data_8diff7'] = (df['date_of_last_rech_data_8'] - df['date_of_last_rech_data_7']).dt.days\n",
    "\n",
    "df['vol_2g_mb_7diff6'] = df['vol_2g_mb_7'] - df['vol_2g_mb_6']\n",
    "df['vol_2g_mb_8diff7'] = df['vol_2g_mb_8'] - df['vol_2g_mb_7']\n",
    "\n",
    "df['vol_3g_mb_7diff6'] = df['vol_3g_mb_7'] - df['vol_3g_mb_6']\n",
    "df['vol_3g_mb_8diff7'] = df['vol_3g_mb_8'] - df['vol_3g_mb_7']\n",
    "\n",
    "df['vbc_3g_7diff6'] = df['jul_vbc_3g'] - df['jun_vbc_3g']\n",
    "df['vbc_3g_8diff7'] = df['aug_vbc_3g'] - df['jul_vbc_3g']"
   ]
  },
  {
   "cell_type": "markdown",
   "metadata": {},
   "source": [
    "After deriving so many new features we should now drop the ones that won't be useful anymore. Let's first drop the **datetime** columns and **mobile_number**."
   ]
  },
  {
   "cell_type": "code",
   "execution_count": 23,
   "metadata": {},
   "outputs": [],
   "source": [
    "df.drop(list(df.select_dtypes(include=['datetime64']).columns), axis=1, inplace=True)\n",
    "df.drop('mobile_number', axis=1 , inplace=True)"
   ]
  },
  {
   "cell_type": "markdown",
   "metadata": {},
   "source": [
    "We have also derived averaged features for month 6 and 7 so we can drop raw values for single months."
   ]
  },
  {
   "cell_type": "code",
   "execution_count": 24,
   "metadata": {},
   "outputs": [],
   "source": [
    "df.drop(['arpu_6','arpu_7','onnet_mou_6','onnet_mou_7','offnet_mou_6','offnet_mou_7',\n",
    "         'roam_ic_mou_6','roam_ic_mou_7','roam_og_mou_6','roam_og_mou_7',\n",
    "         'loc_og_t2t_mou_6','loc_og_t2t_mou_7','loc_og_t2m_mou_6','loc_og_t2m_mou_7',\n",
    "         'loc_og_t2f_mou_6','loc_og_t2f_mou_7','loc_og_t2c_mou_6','loc_og_t2c_mou_7',\n",
    "         'std_og_t2t_mou_6','std_og_t2t_mou_7', 'std_og_t2m_mou_6','std_og_t2m_mou_7',\n",
    "         'std_og_t2f_mou_6','std_og_t2f_mou_7','isd_og_mou_6','isd_og_mou_7',\n",
    "         'spl_og_mou_6','spl_og_mou_7', 'og_others_6','og_others_7',\n",
    "         'loc_ic_t2t_mou_6','loc_ic_t2t_mou_7','loc_ic_t2m_mou_6','loc_ic_t2m_mou_7',\n",
    "         'loc_ic_t2f_mou_6','loc_ic_t2f_mou_7', 'std_ic_t2t_mou_6','std_ic_t2t_mou_7',\n",
    "         'std_ic_t2m_mou_6','std_ic_t2m_mou_7', 'std_ic_t2f_mou_6','std_ic_t2f_mou_7',\n",
    "         'spl_ic_mou_6','spl_ic_mou_7', 'isd_ic_mou_6','isd_ic_mou_7',\n",
    "         'ic_others_6','ic_others_7', 'total_rech_amt_6','total_rech_amt_7',\n",
    "         'vol_2g_mb_6','vol_2g_mb_7', 'vol_3g_mb_6','vol_3g_mb_7',\n",
    "         'arpu_3g_6','arpu_3g_7', 'arpu_2g_6','arpu_2g_7',\n",
    "         'jun_vbc_3g','jul_vbc_3g', 'loc_og_mou_6', 'loc_og_mou_7','std_og_mou_6', 'std_og_mou_7',\n",
    "          'total_og_mou_6', 'total_og_mou_7','loc_ic_mou_6', 'loc_ic_mou_7',\n",
    "          'std_ic_mou_6', 'std_ic_mou_7','total_ic_mou_6', 'total_ic_mou_7',\n",
    "          'total_rech_num_6', 'total_rech_num_7','night_pck_user_6', 'night_pck_user_7',\n",
    "          'monthly_2g_6', 'monthly_2g_7','sachet_2g_6', 'sachet_2g_7',\n",
    "          'monthly_3g_6', 'monthly_3g_7','sachet_3g_6', 'sachet_3g_7','fb_user_6', 'fb_user_7'\n",
    "        ], axis=1, inplace=True)"
   ]
  },
  {
   "cell_type": "markdown",
   "metadata": {},
   "source": [
    "We have dropped a good amount of features but probably there are still some of them with very high correlations between each other. In this case we don't need all of them. For this purpose we can calculate the correlation matrix and take only absolute values from it. Then filter the upper part above the diagonal as we don't want duplicated values and create a list of columns to drop for which the correlation is higher then some specified threshold."
   ]
  },
  {
   "cell_type": "code",
   "execution_count": 25,
   "metadata": {},
   "outputs": [],
   "source": [
    "correlation_matrix = df.corr().abs()\n",
    "correlation_matrix = correlation_matrix.where(np.triu(np.ones(correlation_matrix.shape), k=1).astype(np.bool))"
   ]
  },
  {
   "cell_type": "code",
   "execution_count": 26,
   "metadata": {},
   "outputs": [],
   "source": [
    "to_drop = [column for column in correlation_matrix.columns if any(correlation_matrix[column] > 0.85)]"
   ]
  },
  {
   "cell_type": "code",
   "execution_count": 27,
   "metadata": {},
   "outputs": [],
   "source": [
    "df.drop(columns=to_drop, axis=1, inplace=True)"
   ]
  },
  {
   "cell_type": "code",
   "execution_count": 28,
   "metadata": {},
   "outputs": [
    {
     "data": {
      "text/plain": [
       "(29953, 202)"
      ]
     },
     "execution_count": 28,
     "metadata": {},
     "output_type": "execute_result"
    }
   ],
   "source": [
    "df.shape"
   ]
  },
  {
   "cell_type": "markdown",
   "metadata": {},
   "source": [
    "Finally we have 202 features. Let's look at the correlations between the top 20 features and our target."
   ]
  },
  {
   "cell_type": "code",
   "execution_count": 29,
   "metadata": {},
   "outputs": [
    {
     "data": {
      "text/plain": [
       "<AxesSubplot:>"
      ]
     },
     "execution_count": 29,
     "metadata": {},
     "output_type": "execute_result"
    },
    {
     "data": {
      "image/png": "[encoded data removed]",
      "text/plain": [
       "<Figure size 1800x720 with 1 Axes>"
      ]
     },
     "metadata": {
      "needs_background": "light"
     },
     "output_type": "display_data"
    }
   ],
   "source": [
    "plt.figure(figsize=(25,10))\n",
    "df.corr()['churn_flag'].sort_values(ascending=False)[:20].plot(kind ='bar')"
   ]
  },
  {
   "cell_type": "markdown",
   "metadata": {},
   "source": [
    "It looks like our new derived features have higher correlations then the raw ones shown on the same plot before. We can now save the preprocessed data and start building our model."
   ]
  },
  {
   "cell_type": "code",
   "execution_count": 30,
   "metadata": {},
   "outputs": [],
   "source": [
    "df.to_csv('data_preprocessed.csv')"
   ]
  }
 ],
 "metadata": {
  "kernelspec": {
   "display_name": "Python 3",
   "language": "python",
   "name": "python3"
  },
  "language_info": {
   "codemirror_mode": {
    "name": "ipython",
    "version": 3
   },
   "file_extension": ".py",
   "mimetype": "text/x-python",
   "name": "python",
   "nbconvert_exporter": "python",
   "pygments_lexer": "ipython3",
   "version": "3.8.5"
  }
 },
 "nbformat": 4,
 "nbformat_minor": 4
}
